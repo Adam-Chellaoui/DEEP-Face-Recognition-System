{
 "cells": [
  {
   "cell_type": "code",
   "execution_count": 15,
   "id": "20efbd48",
   "metadata": {},
   "outputs": [],
   "source": [
    "# Imports\n",
    "import numpy as np\n",
    "import torch\n",
    "import torchvision\n",
    "import torchvision.transforms as transforms\n",
    "from torchsampler import ImbalancedDatasetSampler\n",
    "from torch.utils.data.sampler import SubsetRandomSampler\n",
    "\n",
    "# Images directories\n",
    "train_dir = './train_images'\n",
    "test_dir = './test_images'\n",
    "\n",
    "# Normalize data -> prepare transformer\n",
    "transform = transforms.Compose(\n",
    "    [transforms.Grayscale(), \n",
    "     transforms.ToTensor(), \n",
    "     transforms.Normalize(mean=(0,),std=(1,))])\n",
    "\n",
    "# Import data and transform them\n",
    "train_data = torchvision.datasets.ImageFolder(train_dir, transform=transform)\n",
    "test_data = torchvision.datasets.ImageFolder(test_dir, transform=transform)\n",
    "\n",
    "# Size of training / data -> 20% goes to validation\n",
    "valid_size = 0.2\n",
    "\n",
    "# When train ML, send batch by batch -> we send packages (batch) of 32 images every step\n",
    "batch_size = 32\n",
    "\n",
    "# Get index according to length, and shuffle it -> separate validation and training randomly every time\n",
    "num_train = len(train_data)\n",
    "indices_train = list(range(num_train))\n",
    "np.random.shuffle(indices_train)\n",
    "\n",
    "# Get index used for validation by spliting array\n",
    "split_tv = int(np.floor(valid_size * num_train))\n",
    "train_new_idx, valid_idx = indices_train[split_tv:],indices_train[:split_tv]\n",
    "\n",
    "# Sampler function\n",
    "# train_sampler = SubsetRandomSampler(train_new_idx)\n",
    "# valid_sampler = SubsetRandomSampler(valid_idx)\n",
    "\n",
    "train_sampler = ImbalancedDatasetSampler(train_data, train_new_idx)\n",
    "valid_sampler = ImbalancedDatasetSampler(train_data, valid_idx)\n",
    "\n",
    "# What to feed to training\n",
    "train_loader = torch.utils.data.DataLoader(train_data, batch_size=batch_size, sampler=train_sampler, num_workers=1)\n",
    "valid_loader = torch.utils.data.DataLoader(train_data, batch_size=batch_size, sampler=valid_sampler, num_workers=1)\n",
    "test_loader = torch.utils.data.DataLoader(test_data, batch_size=batch_size, shuffle=True, num_workers=1)\n",
    "classes = ('noface','face')"
   ]
  },
  {
   "cell_type": "code",
   "execution_count": 20,
   "id": "f0a93c23",
   "metadata": {},
   "outputs": [],
   "source": [
    "import torch.nn as nn\n",
    "import torch.nn.functional as F\n",
    "# Network, ready to use\n",
    "class Net(nn.Module):\n",
    "    def __init__(self):\n",
    "        super(Net, self).__init__()\n",
    "        self.conv1 = nn.Conv2d(1, 16, 5)\n",
    "        self.pool = nn.MaxPool2d(2, 2) #Pooling 2 by 2, window of 2\n",
    "        self.conv2 = nn.Conv2d(16, 16, 5)\n",
    "        self.fc1 = nn.Linear(16 * 6 * 6, 32)\n",
    "        self.fc2 = nn.Linear(32, 16)\n",
    "        self.fc3 = nn.Linear(16, 2)\n",
    "\n",
    "    def forward(self, x):\n",
    "        x = self.pool(F.relu(self.conv1(x)))\n",
    "        x = self.pool(F.relu(self.conv2(x)))\n",
    "        x = x.view(-1, 16 * 6 * 6)\n",
    "        x = F.relu(self.fc1(x))\n",
    "        x = F.relu(self.fc2(x))\n",
    "        x = self.fc3(x)\n",
    "        return x"
   ]
  },
  {
   "cell_type": "code",
   "execution_count": 21,
   "id": "dbeb7480",
   "metadata": {},
   "outputs": [],
   "source": [
    "# Network creation\n",
    "net = Net()"
   ]
  },
  {
   "cell_type": "code",
   "execution_count": 22,
   "id": "cf0f2dd7",
   "metadata": {},
   "outputs": [],
   "source": [
    "# Calculate Entropy error -> test accuracy of model, we want criterion to tend to 0.\n",
    "# Optimize change network each time to make it better. It's ran between every batches\n",
    "import torch.optim as optim\n",
    "\n",
    "criterion = nn.CrossEntropyLoss()\n",
    "optimizer = optim.SGD(net.parameters(), lr=0.001, momentum=0.9)"
   ]
  },
  {
   "cell_type": "markdown",
   "id": "eb941dab",
   "metadata": {},
   "source": [
    "## Model training"
   ]
  },
  {
   "cell_type": "code",
   "execution_count": 23,
   "id": "08e9d85f",
   "metadata": {},
   "outputs": [
    {
     "name": "stdout",
     "output_type": "stream",
     "text": [
      "[1,   200] loss: 0.692\n",
      "[1,   400] loss: 0.689\n",
      "[1,   600] loss: 0.684\n",
      "[1,   800] loss: 0.668\n",
      "[1,  1000] loss: 0.591\n",
      "[1,  1200] loss: 0.369\n",
      "[1,  1400] loss: 0.275\n",
      "[1,  1600] loss: 0.230\n",
      "[1,  1800] loss: 0.204\n",
      "[1,  2000] loss: 0.187\n",
      "[1,  2200] loss: 0.171\n",
      "[2,   200] loss: 0.139\n",
      "[2,   400] loss: 0.143\n",
      "[2,   600] loss: 0.138\n",
      "[2,   800] loss: 0.133\n",
      "[2,  1000] loss: 0.116\n",
      "[2,  1200] loss: 0.110\n",
      "[2,  1400] loss: 0.101\n",
      "[2,  1600] loss: 0.108\n",
      "[2,  1800] loss: 0.095\n",
      "[2,  2000] loss: 0.086\n",
      "[2,  2200] loss: 0.088\n",
      "[3,   200] loss: 0.074\n",
      "[3,   400] loss: 0.068\n",
      "[3,   600] loss: 0.067\n",
      "[3,   800] loss: 0.068\n",
      "[3,  1000] loss: 0.058\n",
      "[3,  1200] loss: 0.057\n",
      "[3,  1400] loss: 0.059\n",
      "[3,  1600] loss: 0.053\n",
      "[3,  1800] loss: 0.049\n",
      "[3,  2000] loss: 0.061\n",
      "[3,  2200] loss: 0.052\n",
      "[4,   200] loss: 0.050\n",
      "[4,   400] loss: 0.045\n",
      "[4,   600] loss: 0.050\n",
      "[4,   800] loss: 0.054\n",
      "[4,  1000] loss: 0.048\n",
      "[4,  1200] loss: 0.044\n",
      "[4,  1400] loss: 0.038\n",
      "[4,  1600] loss: 0.035\n",
      "[4,  1800] loss: 0.039\n",
      "[4,  2000] loss: 0.038\n",
      "[4,  2200] loss: 0.035\n",
      "[5,   200] loss: 0.034\n",
      "[5,   400] loss: 0.031\n",
      "[5,   600] loss: 0.031\n",
      "[5,   800] loss: 0.030\n",
      "[5,  1000] loss: 0.033\n",
      "[5,  1200] loss: 0.029\n",
      "[5,  1400] loss: 0.037\n",
      "[5,  1600] loss: 0.042\n",
      "[5,  1800] loss: 0.031\n",
      "[5,  2000] loss: 0.034\n",
      "[5,  2200] loss: 0.029\n",
      "[6,   200] loss: 0.033\n",
      "[6,   400] loss: 0.034\n",
      "[6,   600] loss: 0.028\n",
      "[6,   800] loss: 0.028\n",
      "[6,  1000] loss: 0.026\n",
      "[6,  1200] loss: 0.031\n",
      "[6,  1400] loss: 0.027\n",
      "[6,  1600] loss: 0.026\n",
      "[6,  1800] loss: 0.028\n",
      "[6,  2000] loss: 0.028\n",
      "[6,  2200] loss: 0.024\n",
      "[7,   200] loss: 0.024\n",
      "[7,   400] loss: 0.028\n",
      "[7,   600] loss: 0.024\n",
      "[7,   800] loss: 0.027\n",
      "[7,  1000] loss: 0.034\n",
      "[7,  1200] loss: 0.023\n",
      "[7,  1400] loss: 0.023\n",
      "[7,  1600] loss: 0.036\n",
      "[7,  1800] loss: 0.021\n",
      "[7,  2000] loss: 0.022\n",
      "[7,  2200] loss: 0.025\n",
      "[8,   200] loss: 0.017\n",
      "[8,   400] loss: 0.022\n",
      "[8,   600] loss: 0.027\n",
      "[8,   800] loss: 0.021\n",
      "[8,  1000] loss: 0.022\n",
      "[8,  1200] loss: 0.025\n",
      "[8,  1400] loss: 0.020\n",
      "[8,  1600] loss: 0.022\n",
      "[8,  1800] loss: 0.019\n",
      "[8,  2000] loss: 0.020\n",
      "[8,  2200] loss: 0.026\n",
      "[9,   200] loss: 0.021\n",
      "[9,   400] loss: 0.016\n",
      "[9,   600] loss: 0.017\n",
      "[9,   800] loss: 0.026\n",
      "[9,  1000] loss: 0.021\n",
      "[9,  1200] loss: 0.020\n",
      "[9,  1400] loss: 0.022\n",
      "[9,  1600] loss: 0.018\n",
      "[9,  1800] loss: 0.024\n",
      "[9,  2000] loss: 0.015\n",
      "[9,  2200] loss: 0.020\n",
      "[10,   200] loss: 0.017\n",
      "[10,   400] loss: 0.018\n",
      "[10,   600] loss: 0.017\n",
      "[10,   800] loss: 0.022\n",
      "[10,  1000] loss: 0.018\n",
      "[10,  1200] loss: 0.014\n",
      "[10,  1400] loss: 0.020\n",
      "[10,  1600] loss: 0.017\n",
      "[10,  1800] loss: 0.014\n",
      "[10,  2000] loss: 0.016\n",
      "[10,  2200] loss: 0.015\n",
      "Finished Training\n"
     ]
    }
   ],
   "source": [
    "saved_loss = []\n",
    "for epoch in range(10):  # loop over the dataset multiple times -> epoch = nb of time we go through dataset, careful with overfitting\n",
    "\n",
    "    running_loss = 0.0\n",
    "    for i, data in enumerate(train_loader, 0):\n",
    "        # get the inputs; data is a list of [inputs, labels]\n",
    "        inputs, labels = data\n",
    "\n",
    "        # zero the parameter gradients\n",
    "        optimizer.zero_grad()\n",
    "\n",
    "        # forward (calculating via current model) + backward (learning from mistakes) + optimize (fix mistakes)\n",
    "        outputs = net(inputs)\n",
    "        loss = criterion(outputs, labels)\n",
    "        loss.backward()\n",
    "        optimizer.step()\n",
    "\n",
    "        # print statistics\n",
    "        running_loss += loss.item() # We want to minimize loss\n",
    "        if i % 200 == 199:    # print every 200 mini-batches\n",
    "            print(f'[{epoch + 1}, {i + 1:5d}] loss: {running_loss / 200:.3f}')\n",
    "            if i == 2199:\n",
    "                saved_loss.append(running_loss)\n",
    "            running_loss = 0.0\n",
    "\n",
    "print('Finished Training')"
   ]
  },
  {
   "cell_type": "markdown",
   "id": "5ec7ca5d",
   "metadata": {},
   "source": [
    "## Testing"
   ]
  },
  {
   "cell_type": "code",
   "execution_count": 24,
   "id": "d3491937",
   "metadata": {},
   "outputs": [
    {
     "name": "stdout",
     "output_type": "stream",
     "text": [
      "Accuracy of the network on the 10000 test images: 92 %\n"
     ]
    }
   ],
   "source": [
    "correct = 0\n",
    "total = 0\n",
    "with torch.no_grad():\n",
    "    for data in test_loader:\n",
    "        images, labels = data\n",
    "        outputs = net(images)\n",
    "        _, predicted = torch.max(outputs.data, 1)\n",
    "        total += labels.size(0)\n",
    "        correct += (predicted == labels).sum().item()\n",
    "\n",
    "print('Accuracy of the network on the 10000 test images: %d %%' % (\n",
    "    100 * correct / total))"
   ]
  },
  {
   "cell_type": "code",
   "execution_count": null,
   "id": "1e543521",
   "metadata": {},
   "outputs": [],
   "source": [
    "inputs, classes = next(iter(test_loader))   "
   ]
  },
  {
   "cell_type": "code",
   "execution_count": null,
   "id": "328205ba",
   "metadata": {},
   "outputs": [],
   "source": [
    "import matplotlib.pyplot as plt"
   ]
  },
  {
   "cell_type": "code",
   "execution_count": null,
   "id": "48a670d5",
   "metadata": {},
   "outputs": [],
   "source": [
    "def imshow(img):\n",
    "    npimg = img.numpy()\n",
    "    plt.imshow(np.transpose(npimg, (1, 2, 0)))\n",
    "    plt.show()"
   ]
  },
  {
   "cell_type": "code",
   "execution_count": null,
   "id": "8a43cf24",
   "metadata": {},
   "outputs": [],
   "source": [
    "dataiter = iter(test_loader)\n",
    "images, labels = next(dataiter)\n",
    "\n",
    "image_tensor = torchvision.utils.make_grid(images[0])\n",
    "image_label = labels[0]\n",
    "\n",
    "# show images\n",
    "imshow(image_tensor)\n"
   ]
  },
  {
   "cell_type": "code",
   "execution_count": null,
   "id": "dc917a3d",
   "metadata": {},
   "outputs": [],
   "source": [
    "labels[0]"
   ]
  },
  {
   "cell_type": "markdown",
   "id": "f616d7d3",
   "metadata": {},
   "source": [
    "### Printing loss according to epoch, to find best model and avoid overfitting"
   ]
  },
  {
   "cell_type": "code",
   "execution_count": null,
   "id": "11a6bc6a",
   "metadata": {},
   "outputs": [],
   "source": [
    "\n",
    "# X axis parameter:\n",
    "xaxis = range(0, 10)\n",
    "\n",
    "# Y axis parameter:\n",
    "yaxis = saved_loss \n",
    "\n",
    "plt.plot(xaxis, yaxis, 'ro')\n",
    "plt.grid(color = 'green', linestyle = '--', linewidth = 0.5)\n",
    "plt.show()"
   ]
  }
 ],
 "metadata": {
  "kernelspec": {
   "display_name": "Python 3.9.9 ('pytorch_venv': venv)",
   "language": "python",
   "name": "python3"
  },
  "language_info": {
   "codemirror_mode": {
    "name": "ipython",
    "version": 3
   },
   "file_extension": ".py",
   "mimetype": "text/x-python",
   "name": "python",
   "nbconvert_exporter": "python",
   "pygments_lexer": "ipython3",
   "version": "3.9.9"
  },
  "vscode": {
   "interpreter": {
    "hash": "0673ab36cf4981d9f173f29ef63de73d925b2d0199ec09b3cce3aea6166e893b"
   }
  }
 },
 "nbformat": 4,
 "nbformat_minor": 5
}
