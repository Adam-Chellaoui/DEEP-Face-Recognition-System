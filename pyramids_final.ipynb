{
 "cells": [
  {
   "cell_type": "markdown",
   "metadata": {},
   "source": [
    "<h1 align=\"center\">Machine Learning Project : Face Recognition System</h1>\n",
    "\n",
    "#### Authors :\n",
    "\n",
    "* Aurélien Tournade\n",
    "* Claire Penot\n",
    "* Martin Collard\n",
    "* Adam Chellaoui\n",
    "* Basma Belahcen"
   ]
  },
  {
   "cell_type": "code",
   "execution_count": 1,
   "metadata": {
    "id": "9M2JRjkfsYNU"
   },
   "outputs": [],
   "source": [
    "# Imports\n",
    "import numpy as np\n",
    "import torch\n",
    "import cv2\n",
    "import matplotlib.pyplot as plt\n",
    "from sklearn.cluster import MeanShift\n",
    "from matplotlib import patches\n",
    "import torch.nn as nn\n",
    "import torch.nn.functional as F\n",
    "import torch.optim as optim"
   ]
  },
  {
   "cell_type": "markdown",
   "metadata": {},
   "source": [
    "# Table of contents\n",
    "\n",
    "[1. Definiton of the CNN model](#chapter1)\n",
    "\n",
    "[2. Face recognition for faces of same size](#chapter2)\n",
    "   * [2.1 Iteration over the big image](#21)\n",
    "   * [2.2 Clustering the predictions](#22)\n",
    "   * [2.3 Display rectangles arround faces (cluster centers)](#23)\n",
    "    \n",
    "[3. Face recognition for faces of different sizes](#chapter3)\n",
    "   * [3.1 Resized Images](#32)\n",
    "   * [3.2 Going through the pyramid ](#32)\n",
    "   * [3.3 Display the centers detected](#33)\n",
    "   * [3.4 Second clustering to get only one center for each face](#34)\n",
    "   * [3.5 Display the center and the edges of faces](#35)"
   ]
  },
  {
   "cell_type": "markdown",
   "metadata": {},
   "source": [
    "# 1. Definiton of the CNN model <a class=\"anchor\" id=\"chapter1\"></a>"
   ]
  },
  {
   "cell_type": "markdown",
   "metadata": {},
   "source": [
    "#### We choose to use a Convolutional neural network because it is more fit for image data. Indeed, CNN allow to reduce the number of units in the network, which means fewer parameters to learn and reduced chance of overfitting. Also, with the convolution and padding layers, CNN captures local patterns in the image and retrieve features like shape, edges, or orienttion, by learning image features using small squares of input data.\n",
    "\n",
    "#### We choose to use zero-padding in order to keep the latent image representation the bigger possible (9x9), it allows for more space for the kernel to cover the image, and results in more accurate analysis of images."
   ]
  },
  {
   "cell_type": "code",
   "execution_count": 2,
   "metadata": {
    "id": "pBw_Js3FtfiN"
   },
   "outputs": [],
   "source": [
    "# Network, ready to use\n",
    "class Net(nn.Module):\n",
    "    def __init__(self):\n",
    "        super(Net, self).__init__()\n",
    "        self.conv1 = nn.Conv2d(1, 32, 5, padding=2, padding_mode='zeros')\n",
    "        self.pool = nn.MaxPool2d(2, 2) #Pooling 2 by 2, window of 2\n",
    "        self.conv2 = nn.Conv2d(32, 64, 5 , padding=2, padding_mode='zeros')\n",
    "        self.fc1 = nn.Linear(64 * 9 * 9, 512)\n",
    "        self.fc2 = nn.Linear(512, 256)\n",
    "        self.fc3 = nn.Linear(256, 128)\n",
    "        self.fc4 = nn.Linear(128, 32)\n",
    "        self.fc5 = nn.Linear(32, 2)\n",
    "\n",
    "    def forward(self, x):\n",
    "        x = self.pool(F.relu(self.conv1(x)))\n",
    "        x = self.pool(F.relu(self.conv2(x)))\n",
    "        x = x.view(-1, 64 * 9 * 9)\n",
    "        x = F.relu(self.fc1(x))\n",
    "        x = F.relu(self.fc2(x))\n",
    "        x = F.relu(self.fc3(x))\n",
    "        x = F.relu(self.fc4(x))\n",
    "        x = self.fc5(x)\n",
    "        return x"
   ]
  },
  {
   "cell_type": "code",
   "execution_count": 3,
   "metadata": {
    "id": "9fFgDPa1tftP"
   },
   "outputs": [],
   "source": [
    "# Network creation\n",
    "net = Net()"
   ]
  },
  {
   "cell_type": "code",
   "execution_count": 4,
   "metadata": {
    "id": "ew0AJFJ1tf00"
   },
   "outputs": [],
   "source": [
    "# Calculate Entropy error -> test accuracy of model, we want criterion to tend to 0.\n",
    "# Optimize change network each time to make it better. It's ran between every batches\n",
    "\n",
    "# we want to perfrom classification so we choose the cross-entropy loss\n",
    "criterion = nn.CrossEntropyLoss()\n",
    "\n",
    "# we choose the stochastic gradient descent as optimizer\n",
    "optimizer = optim.SGD(net.parameters(), lr=0.001, momentum=0.9)"
   ]
  },
  {
   "cell_type": "code",
   "execution_count": 5,
   "metadata": {
    "colab": {
     "base_uri": "https://localhost:8080/"
    },
    "id": "3ScccnqYtO0E",
    "outputId": "45a1719a-8199-4dd3-90a4-8b0e3b056442"
   },
   "outputs": [
    {
     "data": {
      "text/plain": [
       "Net(\n",
       "  (conv1): Conv2d(1, 32, kernel_size=(5, 5), stride=(1, 1), padding=(2, 2))\n",
       "  (pool): MaxPool2d(kernel_size=2, stride=2, padding=0, dilation=1, ceil_mode=False)\n",
       "  (conv2): Conv2d(32, 64, kernel_size=(5, 5), stride=(1, 1), padding=(2, 2))\n",
       "  (fc1): Linear(in_features=5184, out_features=512, bias=True)\n",
       "  (fc2): Linear(in_features=512, out_features=256, bias=True)\n",
       "  (fc3): Linear(in_features=256, out_features=128, bias=True)\n",
       "  (fc4): Linear(in_features=128, out_features=32, bias=True)\n",
       "  (fc5): Linear(in_features=32, out_features=2, bias=True)\n",
       ")"
      ]
     },
     "execution_count": 5,
     "metadata": {},
     "output_type": "execute_result"
    }
   ],
   "source": [
    "# The model has already been trained (on a dataset of 36x36 pixel images in black and white) and saved, so we load it directly :\n",
    "net = torch.load(\"./Saved Models/model_95_test.pt\")\n",
    "net"
   ]
  },
  {
   "cell_type": "markdown",
   "metadata": {},
   "source": [
    "# 2. Face recognition for faces of same size <a class=\"anchor\" id=\"chapter2\"></a>\n",
    "\n",
    "## 2.1 Iteration over the big image <a class=\"anchor\" id=\"21\"></a>"
   ]
  },
  {
   "cell_type": "code",
   "execution_count": 6,
   "metadata": {
    "id": "CAiMxlddun-x"
   },
   "outputs": [],
   "source": [
    "originalImage = cv2.imread('./Images Visages/martin.jpg')\n",
    "image = cv2.cvtColor(originalImage, cv2.COLOR_BGR2GRAY)/255."
   ]
  },
  {
   "cell_type": "code",
   "execution_count": 7,
   "metadata": {
    "colab": {
     "base_uri": "https://localhost:8080/",
     "height": 285
    },
    "id": "t8B6fKkTus-5",
    "outputId": "b39e4673-f299-4936-b9f2-770f751a1a8e"
   },
   "outputs": [
    {
     "data": {
      "image/png": "[encoded data removed]",
      "text/plain": [
       "<Figure size 720x576 with 1 Axes>"
      ]
     },
     "metadata": {
      "needs_background": "light"
     },
     "output_type": "display_data"
    }
   ],
   "source": [
    "step = 5\n",
    "size = 36\n",
    "whole_size = 360\n",
    "nb_windows = int((whole_size - size + 1)/step)\n",
    "mat = np.zeros((nb_windows,nb_windows))\n",
    "cpt = 0\n",
    "for i in range(nb_windows) :\n",
    "    for j in range(nb_windows) :\n",
    "        #cpt+=1\n",
    "        small_image = image[(step*i):(step*i)+size, (step*j):(step*j)+size]\n",
    "        #print(cpt, small_image.shape)\n",
    "        torch_image = torch.from_numpy(small_image).type(torch.FloatTensor)\n",
    "        torch_image = torch.unsqueeze(torch_image, dim=0)\n",
    "        torch_image = torch.unsqueeze(torch_image, dim=0)\n",
    "        outputs = net(torch_image)\n",
    "        _, predicted = torch.max(outputs.data, 1)\n",
    "        mat[i][j] = predicted\n",
    "plt.figure(figsize=(10,8))\n",
    "plt.imshow(mat)\n",
    "plt.show()"
   ]
  },
  {
   "cell_type": "markdown",
   "metadata": {},
   "source": [
    "## 2.2 Clustering the predictions <a class=\"anchor\" id=\"22\"></a>"
   ]
  },
  {
   "cell_type": "code",
   "execution_count": 8,
   "metadata": {
    "colab": {
     "base_uri": "https://localhost:8080/",
     "height": 370
    },
    "id": "mlqOQfajuwgL",
    "outputId": "fba5ae1a-6076-4bfb-a90e-0dc00eaa13cd"
   },
   "outputs": [
    {
     "data": {
      "text/plain": [
       "array([[ 88, 268],\n",
       "       [133, 183],\n",
       "       [198,  38],\n",
       "       [ 48,  83],\n",
       "       [308, 113],\n",
       "       [293, 248]])"
      ]
     },
     "execution_count": 8,
     "metadata": {},
     "output_type": "execute_result"
    },
    {
     "data": {
      "image/png": "[encoded data removed]",
      "text/plain": [
       "<Figure size 720x576 with 1 Axes>"
      ]
     },
     "metadata": {
      "needs_background": "light"
     },
     "output_type": "display_data"
    }
   ],
   "source": [
    "#cluster\n",
    "array_of_points = [[i, j] for i in range(nb_windows) for j in range(nb_windows) if mat[i][j] == 1]\n",
    "\n",
    "X = np.array(array_of_points)\n",
    "\n",
    "clustering = MeanShift(bandwidth=3).fit(X)\n",
    "centers = clustering.cluster_centers_\n",
    "#centers = np.reshape(clustering.cluster_centers_, (nb_windows, nb_windows))\n",
    "centers_faces = centers.astype(int)\n",
    "plt.figure(figsize=(10,8))\n",
    "plt.imshow(mat)\n",
    "plt.scatter(centers_faces[:, 1], centers_faces[:, 0], marker=\"x\", color=\"red\", s=200)\n",
    "\n",
    "#mat_centers = np.zeros((whole_size, whole_size))\n",
    "#for idx, coord in enumerate(array_of_points):\n",
    "centers_faces = centers_faces*step + int(size/2)\n",
    "centers_faces"
   ]
  },
  {
   "cell_type": "markdown",
   "metadata": {},
   "source": [
    "## 2.3 Display rectangles arround faces (cluster centers) <a class=\"anchor\" id=\"23\"></a>"
   ]
  },
  {
   "cell_type": "code",
   "execution_count": 9,
   "metadata": {
    "colab": {
     "base_uri": "https://localhost:8080/",
     "height": 269
    },
    "id": "zcOBqLxiu1yV",
    "outputId": "85a90f56-a739-4076-a811-06c130328b0c"
   },
   "outputs": [
    {
     "data": {
      "image/png": "[encoded data removed]",
      "text/plain": [
       "<Figure size 720x576 with 1 Axes>"
      ]
     },
     "metadata": {
      "needs_background": "light"
     },
     "output_type": "display_data"
    }
   ],
   "source": [
    "plt.figure(figsize=(10,8))\n",
    "plt.imshow(originalImage)\n",
    "\n",
    "top_right_corners = np.array(centers_faces)\n",
    "top_right_corners[:, 1] -= int(size/2)\n",
    "top_right_corners[:, 0] -= int(size/2)\n",
    "\n",
    "#plt.scatter(top_right_corners[:, 1], top_right_corners[:, 0], marker=\"x\", color=\"red\", s=200)\n",
    "ax = plt.gca()\n",
    "\n",
    "for [x,y] in top_right_corners:\n",
    "    rect = patches.Rectangle((y,x), size, size, linewidth=1, edgecolor = 'r', facecolor='none')\n",
    "    ax.add_patch(rect)\n"
   ]
  },
  {
   "cell_type": "markdown",
   "metadata": {
    "id": "gM0UIEGKw5cK"
   },
   "source": [
    "# 3. Face recognition for faces of different sizes <a class=\"anchor\" id=\"chapter3\"></a>\n",
    "## 3.1 Resized Images <a class=\"anchor\" id=\"31\"></a>\n",
    "#### In order to detect larger faces than 36x36 pixels, we create smaller resized images by a factor of 20%, on which we will iterate with our initial model."
   ]
  },
  {
   "cell_type": "code",
   "execution_count": null,
   "metadata": {
    "colab": {
     "base_uri": "https://localhost:8080/",
     "height": 405
    },
    "id": "hpaaTdIDw_1a",
    "outputId": "f8ff6011-6cf9-45b8-feb8-a6baca429fff"
   },
   "outputs": [
    {
     "name": "stdout",
     "output_type": "stream",
     "text": [
      "Resized Dimensions :  (360, 360)\n"
     ]
    }
   ],
   "source": [
    "pyramid = []\n",
    "\n",
    "plt.figure(figsize=(10,8))\n",
    "img = cv2.imread('./Images Visages/Pyramid big faces black.jpg')\n",
    "img = cv2.cvtColor(img, cv2.COLOR_BGR2GRAY)/255.\n",
    "\n",
    "resized_factors = [1/(0.8 ** i) for i in range(0,4)]\n",
    "\n",
    "for resized_factor in resized_factors :\n",
    "\n",
    "    width = int(img.shape[1] / resized_factor)\n",
    "    height = int(img.shape[0] / resized_factor)\n",
    "    dim = (width, height)\n",
    "\n",
    "    # resize image\n",
    "    new_img = cv2.resize(img, dim)\n",
    "    print('Resized Dimensions : ', new_img.shape)\n",
    "\n",
    "    plt.imshow(new_img, cmap='gray')\n",
    "\n",
    "    pyramid.append(new_img)\n",
    "    cv2.waitKey(0)\n",
    "    cv2.destroyAllWindows()\n",
    "    print(len(pyramid))"
   ]
  },
  {
   "cell_type": "markdown",
   "metadata": {},
   "source": [
    "### Method to find the real centers of faces for each resized factor"
   ]
  },
  {
   "cell_type": "code",
   "execution_count": null,
   "metadata": {},
   "outputs": [],
   "source": [
    "def get_face_centers(array_of_points, resised_factor):\n",
    "    X = np.array(array_of_points)\n",
    "    clustering = MeanShift(bandwidth=20, max_iter=500).fit(X)\n",
    "    centers = clustering.cluster_centers_\n",
    "    centers_faces = centers.astype(int)\n",
    "\n",
    "    # return the center and the resized_factor\n",
    "    real_face_size = np.repeat(resised_factor*size, len(centers))\n",
    "    centers_faces = np.c_[centers_faces, real_face_size]\n",
    "\n",
    "    return centers_faces"
   ]
  },
  {
   "cell_type": "markdown",
   "metadata": {},
   "source": [
    "## 3.2 Going through the pyramid <a class=\"anchor\" id=\"32\"></a>\n",
    "\n",
    "#### We iterate over the four resized images to detect faces of different sizes. We save the prediction in order to display them later."
   ]
  },
  {
   "cell_type": "code",
   "execution_count": null,
   "metadata": {
    "colab": {
     "base_uri": "https://localhost:8080/",
     "height": 269
    },
    "id": "KPTmIU0u0vQQ",
    "outputId": "b8c12d16-1f08-4d2c-f369-ea1027505c6b"
   },
   "outputs": [],
   "source": [
    "step = 5\n",
    "size = 36\n",
    "whole_size = 360\n",
    "nb_windows = int((whole_size - size + 1)/step)\n",
    "mat = np.zeros((360,360))\n",
    "all_centers = None\n",
    "\n",
    "for index, resized_factor in enumerate(resized_factors) :\n",
    "    image = pyramid[index]\n",
    "    whole_size = image.shape[0]\n",
    "    nb_windows = int((whole_size - size + 1)/step)\n",
    "    array_of_points_to_cluster = []\n",
    "\n",
    "    for i in range(nb_windows) :\n",
    "        for j in range(nb_windows) :\n",
    "            center_window_x = step*i+size//2\n",
    "            center_window_y = step*j+size//2\n",
    "\n",
    "            small_image = image[(step*i):(step*i)+size, (step*j):(step*j)+size]\n",
    "\n",
    "            torch_image = torch.from_numpy(small_image).type(torch.FloatTensor)\n",
    "            torch_image = torch.unsqueeze(torch_image, dim=0)\n",
    "            torch_image = torch.unsqueeze(torch_image, dim=0)\n",
    "\n",
    "            outputs = net(torch_image)\n",
    "            _, predicted = torch.max(outputs.data, 1)\n",
    "\n",
    "            if predicted == 1:\n",
    "                array_of_points_to_cluster.append([int(center_window_x * resized_factor), int(center_window_y  * resized_factor)])\n",
    "\n",
    "    # get the centers_faces with the real size of the face\n",
    "    current_centers = get_face_centers(array_of_points_to_cluster, resized_factor)\n",
    "    #print(current_centers)\n",
    "    all_centers = np.concatenate((all_centers, current_centers), axis=0) if all_centers is not None else current_centers\n",
    "\n",
    "#print(all_centers)\n"
   ]
  },
  {
   "cell_type": "markdown",
   "metadata": {},
   "source": [
    "## 3.3 Display the centers detected <a class=\"anchor\" id=\"33\"></a>"
   ]
  },
  {
   "cell_type": "code",
   "execution_count": null,
   "metadata": {},
   "outputs": [],
   "source": [
    "img = cv2.imread('./Images Visages/Pyramid big faces black.jpg')\n",
    "img = cv2.cvtColor(img, cv2.COLOR_BGR2GRAY)/255.\n",
    "plt.figure(figsize=(10,8))\n",
    "plt.imshow(img, cmap='gray')\n",
    "plt.scatter(all_centers[:, 1], all_centers[:, 0], marker=\"x\", color=\"red\", s=200)\n",
    "plt.show()"
   ]
  },
  {
   "cell_type": "markdown",
   "metadata": {},
   "source": [
    "## 3.4 Second clustering to get only one center for each face <a class=\"anchor\" id=\"34\"></a>"
   ]
  },
  {
   "cell_type": "markdown",
   "metadata": {},
   "source": [
    "### Method to cluster the centers and return the corresponding size of the face"
   ]
  },
  {
   "cell_type": "code",
   "execution_count": null,
   "metadata": {},
   "outputs": [],
   "source": [
    "def get_face_definitive_centers(array_of_points):\n",
    "    X = np.array(array_of_points)\n",
    "    clustering = MeanShift(bandwidth=30).fit(X[:,0:2])\n",
    "    centers = clustering.cluster_centers_\n",
    "    centers_faces = centers.astype(int)\n",
    "    sizes = X[:,2]\n",
    "\n",
    "\n",
    "    # Mapping each cluster with a size\n",
    "\n",
    "    ## The value is a tuple to compute the avg size\n",
    "    clusterSizeMap_ = {cluster:[0,0] for cluster in range(len(centers))}\n",
    "\n",
    "    for point, cluster in enumerate(clustering.labels_):\n",
    "        clusterSizeMap_[cluster][0] += sizes[point]\n",
    "        clusterSizeMap_[cluster][1] += 1\n",
    "\n",
    "    ## Computing the average size value\n",
    "    clusterSizeMap = {cluster:value[0]//value[1] for cluster, value in clusterSizeMap_.items()}\n",
    "\n",
    "    return centers_faces, clusterSizeMap"
   ]
  },
  {
   "cell_type": "code",
   "execution_count": null,
   "metadata": {},
   "outputs": [],
   "source": [
    "definitive_centers, size_corres = get_face_definitive_centers(all_centers)"
   ]
  },
  {
   "cell_type": "markdown",
   "metadata": {},
   "source": [
    "## 3.5 Display the center and the edges of faces <a class=\"anchor\" id=\"35\"></a>\n",
    "#### The centers :"
   ]
  },
  {
   "cell_type": "code",
   "execution_count": null,
   "metadata": {},
   "outputs": [],
   "source": [
    "img = cv2.imread('./Images Visages/Pyramid big faces black.jpg')\n",
    "img = cv2.cvtColor(img, cv2.COLOR_BGR2GRAY)/255.\n",
    "plt.figure(figsize=(10,8))\n",
    "plt.imshow(img, cmap='gray')\n",
    "plt.scatter(definitive_centers[:, 1], definitive_centers[:, 0], marker=\"x\", color=\"red\", s=200)\n",
    "plt.show()"
   ]
  },
  {
   "cell_type": "markdown",
   "metadata": {},
   "source": [
    "#### The edges :"
   ]
  },
  {
   "cell_type": "code",
   "execution_count": null,
   "metadata": {},
   "outputs": [],
   "source": [
    "img = cv2.imread('./Images Visages/Pyramid big faces black.jpg')\n",
    "img = cv2.cvtColor(img, cv2.COLOR_BGR2GRAY)/255.\n",
    "plt.figure(figsize=(10,8))\n",
    "plt.imshow(img, cmap='gray')\n",
    "\n",
    "top_right_corners = np.array(definitive_centers)\n",
    "for row in range(len(top_right_corners)):\n",
    "    size = size_corres[row]\n",
    "    top_right_corners[row,0] -= int(size/2)\n",
    "    top_right_corners[row,1] -= int(size/2)\n",
    "\n",
    "# drawing rectangles\n",
    "ax = plt.gca()\n",
    "for row, [x,y] in enumerate(top_right_corners):\n",
    "    size = size_corres[row]\n",
    "    rect = patches.Rectangle((y,x), size, size, linewidth=1, edgecolor = 'r', facecolor='none')\n",
    "    ax.add_patch(rect)"
   ]
  }
 ],
 "metadata": {
  "colab": {
   "provenance": []
  },
  "kernelspec": {
   "display_name": "Python 3",
   "language": "python",
   "name": "python3"
  },
  "language_info": {
   "codemirror_mode": {
    "name": "ipython",
    "version": 3
   },
   "file_extension": ".py",
   "mimetype": "text/x-python",
   "name": "python",
   "nbconvert_exporter": "python",
   "pygments_lexer": "ipython3",
   "version": "3.8.8"
  }
 },
 "nbformat": 4,
 "nbformat_minor": 1
}
